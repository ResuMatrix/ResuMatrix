{
 "cells": [
  {
   "cell_type": "code",
   "execution_count": null,
   "metadata": {},
   "outputs": [],
   "source": [
    "# for pdf processing\n",
    "import pymupdf\n",
    "import os\n",
    "import zipfile\n",
    "import json\n",
    "import magic\n",
    "import csv\n",
    "import mammoth\n",
    "import uuid\n",
    "# for gemini calls (gemini api and pydantic for structured output)\n",
    "from google import genai\n",
    "from google.genai import types\n",
    "from pydantic import BaseModel, Field, ValidationError\n",
    "from typing import List, Optional\n",
    "# wrapper requirements\n",
    "from functools import wraps\n",
    "from typing import Callable, Any, Tuple"
   ]
  },
  {
   "cell_type": "markdown",
   "metadata": {},
   "source": [
    "# step 1: regenerate the job posting\n",
    "i have loaded it onto a single string, so you dont have to create multiple windows\\\n",
    "i have currently written a simple function for you to understand how it should work, the ui will do its implementation in the actual case"
   ]
  },
  {
   "cell_type": "code",
   "execution_count": 3,
   "metadata": {},
   "outputs": [],
   "source": [
    "client = genai.Client(api_key=os.getenv('GEMINI_API_KEY'))"
   ]
  },
  {
   "cell_type": "code",
   "execution_count": 4,
   "metadata": {},
   "outputs": [],
   "source": [
    "# Nested models and main model for JobPosting\n",
    "class Qualifications(BaseModel):\n",
    "    \"\"\"Represents the qualifications required for the job.\"\"\"\n",
    "    education: str\n",
    "    experience: str\n",
    "    required_skills: List[str]\n",
    "    nice_to_have_skills: Optional[List[str]] = None\n",
    "\n",
    "class Compensation(BaseModel):\n",
    "    \"\"\"Represents the compensation details for the job.\"\"\"\n",
    "    base_salary: Optional[str]\n",
    "    benefits: Optional[str]\n",
    "\n",
    "class JobPosting(BaseModel):\n",
    "    \"\"\"Represents a job posting scraped or retrieved from a source.\"\"\"\n",
    "    job_title: str\n",
    "    company_name: str\n",
    "    location: Optional[str]\n",
    "    posted_date: Optional[str] = None\n",
    "    job_description: str\n",
    "    responsibilities: List[str]\n",
    "    qualifications: Qualifications\n",
    "    compensation: Compensation   \n",
    "    equal_opportunity_employer: Optional[str]\n",
    "\n",
    "    class Config:\n",
    "        str_strip_whitespace = True\n",
    "        validate_by_name = True # Allows using snake_case or camelCase"
   ]
  },
  {
   "cell_type": "code",
   "execution_count": 5,
   "metadata": {},
   "outputs": [],
   "source": [
    "def retry_decorator(max_attempts: int = 3):\n",
    "    def decorator(func: Callable) -> Callable:\n",
    "        @wraps(func)\n",
    "        def wrapper(resume_text: str, links_str: str = '') -> Tuple[dict, str]:\n",
    "            valid_output = False\n",
    "            for attempt in range(max_attempts):\n",
    "                try:\n",
    "                    llm_json = func(resume_text, links_str)\n",
    "                    _ = JobPosting.model_validate_json(llm_json)\n",
    "                    valid_output = True\n",
    "                    break\n",
    "                except ValidationError as e:\n",
    "                    print(f\"Attempt {attempt+1} failed. Validation Error: {e}\")\n",
    "            \n",
    "            if valid_output:\n",
    "                return llm_json\n",
    "            else:\n",
    "                return 'Could not parse job description accurately.'\n",
    "        \n",
    "        return wrapper\n",
    "    \n",
    "    return decorator"
   ]
  },
  {
   "cell_type": "code",
   "execution_count": 6,
   "metadata": {},
   "outputs": [],
   "source": [
    "@retry_decorator(max_attempts=3)\n",
    "def jobPosting_pre_processing_llm(jobPosting_text, user_customization:str = '') -> str:\n",
    "    prompt = \"\"\"Given the Job Posting text, create a structured JSON representation following these guidelines:\n",
    "\n",
    "    # CRITICAL INSTRUCTION FOR \n",
    "    - Keep all your results very grounded and based on the given information provided.\n",
    "    - Prioritize client requirements if they dont align with contradicting instructions.\n",
    "\n",
    "    # INSTRUCTIONS FOR ADDING FURTHER DETAILS\n",
    "    - If the job posting has explicit mention of the fields use them directly.\n",
    "    - If the responsibilites are missing, generate a reasonable inference based on the overall requirements mentioned.\n",
    "    - If the educational qualifications are missing, include education requirements witha requirement for a minimum degree in a relvant field e.g. 'Bachelors in Computer Science or Data Science' or 'Minimum Masters in Accounting' or if the requirements are complex research require a PhD.\n",
    "    - If there are no work experience requirement, add a work experience requirement relevant years of experience e.g. '4+ years of Java Experience', 'At least 2 years of Healthcare Reporting', KEEP the numbers small.  \n",
    "    - If there are NO explicit details mentioned in the job posting, infer and generate a list of approximately SEVEN (7) skills that are highly relevant to the job title, description, responsibilities, and qualifications mentioned. \n",
    "    - Base these inferences on common industry knowledge for the role.\n",
    "    - Keep the job description less than 4 lines to summarize what the role entails.\n",
    "\n",
    "    # Formatting Guidelines\n",
    "    - Convert any gendered pronouns to gender-neutral alternatives.\n",
    "    - Format dates in YYYY-MM-DD format when possible.\n",
    "\n",
    "    The given job description is:\n",
    "\n",
    "    {jobPosting_text}\n",
    "\n",
    "    The following are the client requirements. If the client has any requirements that clash with the previous instructions, follow the client instruction.\n",
    "    {user_customization}\n",
    "    \"\"\".format(jobPosting_text=jobPosting_text, user_customization=user_customization)\n",
    "    \n",
    "    response = client.models.generate_content(\n",
    "        model=\"gemini-2.0-flash-lite\",\n",
    "        contents=prompt,\n",
    "        config={\n",
    "        'response_mime_type': 'application/json',\n",
    "        'response_schema': JobPosting,\n",
    "        })\n",
    "    return response.text\n",
    "    "
   ]
  },
  {
   "cell_type": "code",
   "execution_count": 20,
   "metadata": {},
   "outputs": [],
   "source": [
    "def json_to_str(data:dict) -> str:\n",
    "    converted_str = ''\n",
    "    for i in data:\n",
    "        value = data[i]\n",
    "        val_type = type(value)\n",
    "        if val_type==str or val_type == int:\n",
    "            pass\n",
    "        elif val_type==list:\n",
    "            value = ','.join(value)\n",
    "        elif val_type==dict:\n",
    "            value = json_to_str(value)\n",
    "        elif val_type is None:\n",
    "            continue\n",
    "        converted_str += f\"{i} : {value} \\n\"\n",
    "    return converted_str"
   ]
  },
  {
   "cell_type": "code",
   "execution_count": 27,
   "metadata": {},
   "outputs": [],
   "source": [
    "def jobPosting_pre_processing(init_jobPosting):\n",
    "    continue_preprocessing = True\n",
    "    user_customization = ''\n",
    "    jobPosting_text = init_jobPosting[:]\n",
    "    while continue_preprocessing:\n",
    "        jobPosting_json = jobPosting_pre_processing_llm(jobPosting_text, user_customization)\n",
    "        json_data = json.loads(jobPosting_json)\n",
    "        jobPosting_text = json_to_str(json_data)\n",
    "        print(jobPosting_text)\n",
    "        inp = input('Regenerate(y/n): ')\n",
    "        if inp[0].lower() == 'y':\n",
    "            user_customization = input('What changes do you want to make? :')\n",
    "        else:\n",
    "            continue_preprocessing = False\n",
    "    return jobPosting_json"
   ]
  },
  {
   "cell_type": "code",
   "execution_count": 28,
   "metadata": {},
   "outputs": [
    {
     "name": "stdout",
     "output_type": "stream",
     "text": [
      "job_title : Software Engineer \n",
      "company_name : AppFolio \n",
      "location : None \n",
      "posted_date : None \n",
      "job_description : Join a fast-growing team at AppFolio Investment Management to build software solutions for the private equity market. Collaborate with a passionate team, interact with customers, and contribute to the full lifecycle of product development. \n",
      "responsibilities : Build software solutions for private equity investments.,Collaborate with a team of engineers and product managers.,Interact with customers to understand challenges and gather feedback.,Participate in the full lifecycle of solution development, from discovery to production.,Write code that reflects technical values.,Collaborate in a team setting. \n",
      "qualifications : education : Bachelors in Computer Science or related field \n",
      "experience : 3+ years of experience building web-based products \n",
      "required_skills : Web Development,Cloud Software,Modern Web Frameworks,Collaboration,Software Design,Problem-solving,Agile Methodologies \n",
      "nice_to_have_skills : AIML technologies,Proptech,Fintech,Vertical SaaS \n",
      " \n",
      "compensation : base_salary : $106,000-$125,000 \n",
      "benefits : Regular full-time employees are eligible for benefits - see here. \n",
      " \n",
      "equal_opportunity_employer : At AppFolio, we value diversity in backgrounds and perspectives and depend on it to drive our innovative culture. Thats why were a proud Equal Opportunity Employer, and we believe that our products, our teams, and our business are stronger because of it. This means that no matter what race, color, religion, sex, sexual orientation, gender identification, national origin, age, marital status, ancestry, physical or mental disability, or veteran status, youre always welcome at AppFolio. \n",
      "\n",
      "job_title : Software Engineer \n",
      "company_name : AppFolio \n",
      "location : None \n",
      "posted_date : None \n",
      "job_description : Join a fast-growing team at AppFolio Investment Management to build software solutions for the private equity market. Collaborate with a passionate team, interact with customers, and contribute to the full lifecycle of product development. \n",
      "responsibilities : Build software solutions for private equity investments.,Collaborate with a team of engineers and product managers.,Interact with customers to understand challenges and gather feedback.,Participate in the full lifecycle of solution development, from discovery to production.,Write code that reflects technical values.,Collaborate in a team setting. \n",
      "qualifications : education : Bachelors in Computer Science or related field \n",
      "experience : 3+ years of experience building web-based products \n",
      "required_skills : Web Development,Cloud Software,Modern Web Frameworks,Collaboration,Software Design,Problem-solving,Agile Methodologies \n",
      "nice_to_have_skills : AIML technologies,Proptech,Fintech,Vertical SaaS \n",
      " \n",
      "compensation : base_salary : $106,000-$125,000 \n",
      "benefits : Regular full-time employees are eligible for benefits - see here. \n",
      " \n",
      "equal_opportunity_employer : None \n",
      "\n"
     ]
    }
   ],
   "source": [
    "file_path = \"D:\\\\resumatrix_custom\\\\data\\\\test1_jobDesc.txt\" # Replace with your actual file path\n",
    "try:\n",
    "    with open(file_path, 'r') as file:\n",
    "        init_jobPosting = file.read()\n",
    "        \n",
    "except FileNotFoundError:\n",
    "    print(f\"Error: The file '{file_path}' was not found.\")\n",
    "jobPosting_json = jobPosting_pre_processing(init_jobPosting)"
   ]
  },
  {
   "cell_type": "markdown",
   "metadata": {},
   "source": [
    "in the above execution, i asked it to take out the equal opportunity employer bit for regenerate\\\n",
    "jobPosting_pre_processing - this is the main function in this "
   ]
  },
  {
   "cell_type": "code",
   "execution_count": 26,
   "metadata": {},
   "outputs": [
    {
     "data": {
      "text/plain": [
       "'{\\n  \"job_title\": \"Software Engineer\",\\n  \"company_name\": \"AppFolio\",\\n  \"location\": null,\\n  \"posted_date\": null,\\n  \"job_description\": \"Develop software solutions for the private equity market. Collaborate with engineers and product managers. Interact with customers and ship innovative solutions.\",\\n  \"responsibilities\": [\\n    \"Build software solutions for private equity investment.\",\\n    \"Collaborate with engineering and product teams.\",\\n    \"Interact with customers to understand challenges and gather feedback.\",\\n    \"Operate within an autonomous team, managing the full lifecycle of solutions.\",\\n    \"Write code that aligns with technical values (SMART).\",\\n    \"Interact with colleagues in a manner that supports team values (HEART).\"\\n  ],\\n  \"qualifications\": {\\n    \"education\": \"Bachelors in Computer Science or related field\",\\n    \"experience\": \"3+ years of web-based product development\",\\n    \"required_skills\": [\\n      \"Web Development\",\\n      \"Cloud Software\",\\n      \"Modern Web Frameworks\",\\n      \"Collaboration\",\\n      \"Software Design\",\\n      \"Problem-solving\",\\n      \"Full-stack Development\"\\n    ],\\n    \"nice_to_have_skills\": [\\n      \"AIML Technologies\",\\n      \"Proptech experience\",\\n      \"Fintech experience\",\\n      \"Vertical SaaS experience\",\\n      \"Real Estate experience\",\\n      \"Investing experience\",\\n      \"Investment Management Experience\"\\n    ]\\n  },\\n  \"compensation\": {\\n    \"base_salary\": \"$106,000-$125,000\",\\n    \"benefits\": \"Regular full-time employees are eligible for benefits - see here.\"\\n  },\\n  \"equal_opportunity_employer\": \"At AppFolio, we value diversity in backgrounds and perspectives and depend on it to drive our innovative culture. Thats why were a proud Equal Opportunity Employer, and we believe that our products, our teams, and our business are stronger because of it. This means that no matter what race, color, religion, sex, sexual orientation, gender identification, national origin, age, marital status, ancestry, physical or mental disability, or veteran status, youre always welcome at AppFolio.\"\\n}'"
      ]
     },
     "execution_count": 26,
     "metadata": {},
     "output_type": "execute_result"
    }
   ],
   "source": [
    "jobPosting_json"
   ]
  },
  {
   "cell_type": "markdown",
   "metadata": {},
   "source": [
    "# step 2: convert the zip or folder and extract text out of pdfs (no llm ver)"
   ]
  },
  {
   "cell_type": "code",
   "execution_count": 31,
   "metadata": {},
   "outputs": [],
   "source": [
    "def scanRecurse(baseDir):\n",
    "    for entry in os.scandir(baseDir):\n",
    "        if entry.is_file():\n",
    "            yield os.path.join(baseDir, entry.name)\n",
    "        else:\n",
    "            yield from scanRecurse(entry.path)"
   ]
  },
  {
   "cell_type": "code",
   "execution_count": 55,
   "metadata": {},
   "outputs": [],
   "source": [
    "def resume_pdf_processing(curr_resume_filepath):\n",
    "    doc = pymupdf.open(curr_resume_filepath)\n",
    "    page = doc[0]\n",
    "    resume_text = page.get_text()\n",
    "    resume_links = [i['uri'] for i in page.get_links()]\n",
    "    links_str = 'Links: '+' , '.join(resume_links)\n",
    "    resume_text += links_str\n",
    "    if len(resume_text)<30:\n",
    "        print(f'Parsing issue for {curr_resume_filepath}')\n",
    "        return None\n",
    "    return resume_text\n"
   ]
  },
  {
   "cell_type": "code",
   "execution_count": 56,
   "metadata": {},
   "outputs": [],
   "source": [
    "def resume_doc_processing(docx_path):\n",
    "    with open(docx_path, \"rb\") as docx_file:\n",
    "        result = mammoth.extract_raw_text(docx_file)\n",
    "        text = result.value  \n",
    "        messages = result.messages  # Console log \n",
    "    return text"
   ]
  },
  {
   "cell_type": "code",
   "execution_count": 58,
   "metadata": {},
   "outputs": [],
   "source": [
    "def resume_processing(file_path):\n",
    "    _, file_extension = os.path.splitext(file_path)\n",
    "    file_extension = file_extension.lower()\n",
    "    if file_extension == '.docx':\n",
    "        return resume_doc_processing(file_path)\n",
    "    elif file_extension == '.pdf':\n",
    "        return resume_pdf_processing(file_path)\n",
    "    return 'Unsupported file type'"
   ]
  },
  {
   "cell_type": "code",
   "execution_count": 50,
   "metadata": {},
   "outputs": [],
   "source": [
    "# Create a custom dialect\n",
    "csv.register_dialect('custom', \n",
    "                    quoting=csv.QUOTE_ALL,\n",
    "                    doublequote=True,\n",
    "                    escapechar='\\\\')"
   ]
  },
  {
   "cell_type": "code",
   "execution_count": 62,
   "metadata": {},
   "outputs": [],
   "source": [
    "### THE CURRENT PROCESS DOES NOT INCLUDE KEY DEMOGRAPHIC VARIABLES - VISA STATUS, DISABILITY AND VETERAN\n",
    "### BUILD A RANDOM GENERATOR FOR THESE BOOLEAN TYPE VARIABLES VISA(0.5,0.5), DISABILITY(0.1,0.9), VETERAN(0.1,0.9)\n",
    "### TAG VISA WITH EDUCATION OR WORK EXPERIENCE IF NEEDED BUT \n",
    "### ENFORCE VISA==(!VETERAN) cuz commonsense\n",
    "### do we need to add this to the supervised model too?\n",
    "def resume_pre_processing(job_id, file_path):\n",
    "    ## need to change both base_path_csv and base_path_zip while integrating into the backend\n",
    "    base_path_csv = \"D:\\\\resumatrix_custom\\\\data\" # to be changed\n",
    "    csv_path = os.path.join(base_path_csv,job_id+'.csv')\n",
    "    with open(csv_path, 'w', newline='') as csvfile:\n",
    "        csv_writer = csv.writer(csvfile, dialect='custom')\n",
    "        csv_writer.writerow(['header'])\n",
    "        if os.path.isfile(file_path):\n",
    "            base_path_zip = \"D:\\\\resumatrix_custom\\\\data\\\\extracted_resumes\" #this is the folder where the zip will be extracted\n",
    "            # a new folder with name 'job_id' will be created\n",
    "            #verify against file extension and mime type, extracting file extension\n",
    "            _, file_extension = os.path.splitext(file_path)\n",
    "            file_extension = file_extension.lower()\n",
    "\n",
    "            mime_type = magic.from_file(file_path,mime=True)\n",
    "            if file_extension == '.zip' and mime_type == 'application/zip':\n",
    "                extracted_resume_path = os.path.join(base_path_zip,job_id)\n",
    "                resume_zip = zipfile.ZipFile(file_path, 'r')\n",
    "                if os.path.exists(extracted_resume_path):\n",
    "                    os.rmdir(extracted_resume_path)\n",
    "                    os.mkdir(extracted_resume_path)\n",
    "                    print('Existing folder removed, recreated folder.')\n",
    "                else:\n",
    "                    os.mkdir(extracted_resume_path)\n",
    "                    print(f'Created new folder at {extracted_resume_path}.')\n",
    "                resume_zip.extractall(extracted_resume_path)\n",
    "                for curr_resume in scanRecurse(extracted_resume_path):\n",
    "                    resume_text = resume_processing(curr_resume)\n",
    "                    csv_writer.writerow([resume_text])\n",
    "        elif os.path.isdir(file_path):\n",
    "            for curr_resume in scanRecurse(file_path):\n",
    "                resume_text = resume_processing(curr_resume)\n",
    "                csv_writer.writerow([resume_text])\n",
    "        else:\n",
    "            print(f\"Unsupported file type {mime_type}. Only zip/docx/pdf files are supported.\") #console log\n",
    "    \n",
    "    return f'Parsed resumes are stored in {csv_path}.'"
   ]
  },
  {
   "cell_type": "code",
   "execution_count": 67,
   "metadata": {},
   "outputs": [
    {
     "name": "stdout",
     "output_type": "stream",
     "text": [
      "Parsed resumes are stored in D:\\resumatrix_custom\\data\\525c9498-4ebf-4183-95a4-99476e0c2b6b.csv.\n"
     ]
    }
   ],
   "source": [
    "#this is the code to generate the uuid, this will go into the db step, not required for now\n",
    "job_id = uuid.uuid4().__str__()\n",
    "file_path = 'D:\\\\resumatrix_custom\\\\data\\\\123'\n",
    "status=resume_pre_processing(job_id, file_path)\n",
    "print(status)"
   ]
  }
 ],
 "metadata": {
  "kernelspec": {
   "display_name": ".venv",
   "language": "python",
   "name": "python3"
  },
  "language_info": {
   "codemirror_mode": {
    "name": "ipython",
    "version": 3
   },
   "file_extension": ".py",
   "mimetype": "text/x-python",
   "name": "python",
   "nbconvert_exporter": "python",
   "pygments_lexer": "ipython3",
   "version": "3.12.9"
  }
 },
 "nbformat": 4,
 "nbformat_minor": 2
}
